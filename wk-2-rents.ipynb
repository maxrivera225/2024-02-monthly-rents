{
 "cells": [
  {
   "cell_type": "code",
   "execution_count": 1,
   "id": "5cc0fed8",
   "metadata": {},
   "outputs": [
    {
     "data": {
      "text/plain": [
       "25.0"
      ]
     },
     "execution_count": 1,
     "metadata": {},
     "output_type": "execute_result"
    }
   ],
   "source": [
    "## WITH parenthesis\n",
    "700 / (900 + 1_200 + 700) * 100\n"
   ]
  },
  {
   "cell_type": "code",
   "execution_count": 2,
   "id": "cfca3e00",
   "metadata": {},
   "outputs": [],
   "source": [
    "## assign values to variable\n",
    "\n",
    "alfred_monthly_23 = 900\n",
    "fatima_monthly_23 = 1_200\n",
    "trina_monthly_23 = 700\n"
   ]
  },
  {
   "cell_type": "code",
   "execution_count": 3,
   "id": "5f29584c",
   "metadata": {},
   "outputs": [],
   "source": [
    "## can also assign like this:\n",
    "alfred_m, fatima_m, trina_m = 900, 1_200, 700"
   ]
  },
  {
   "cell_type": "code",
   "execution_count": 4,
   "id": "6a146e18",
   "metadata": {},
   "outputs": [
    {
     "data": {
      "text/plain": [
       "700"
      ]
     },
     "execution_count": 4,
     "metadata": {},
     "output_type": "execute_result"
    }
   ],
   "source": [
    "## call variables\n",
    "alfred_m\n",
    "fatima_monthly_23\n",
    "trina_m"
   ]
  },
  {
   "cell_type": "code",
   "execution_count": 5,
   "id": "f5695a6e",
   "metadata": {},
   "outputs": [
    {
     "data": {
      "text/plain": [
       "25.0"
      ]
     },
     "execution_count": 5,
     "metadata": {},
     "output_type": "execute_result"
    }
   ],
   "source": [
    "## calculate trina's share using variables\n",
    "trina_share_23 = trina_monthly_23 / (alfred_monthly_23 + trina_monthly_23 + fatima_monthly_23) * 100\n",
    "trina_share_23"
   ]
  },
  {
   "cell_type": "code",
   "execution_count": 6,
   "id": "09ca62a3",
   "metadata": {},
   "outputs": [],
   "source": [
    "## easier to read\n",
    "trina_share_23 = \\\n",
    "trina_monthly_23 / (alfred_monthly_23 +\\\n",
    "                                      trina_monthly_23 + \\\n",
    "                                      fatima_monthly_23) * 100\n"
   ]
  },
  {
   "cell_type": "code",
   "execution_count": 7,
   "id": "56d27972",
   "metadata": {},
   "outputs": [
    {
     "data": {
      "text/plain": [
       "25.0"
      ]
     },
     "execution_count": 7,
     "metadata": {},
     "output_type": "execute_result"
    }
   ],
   "source": [
    "## call it\n",
    "trina_share_23"
   ]
  },
  {
   "cell_type": "code",
   "execution_count": 8,
   "id": "8e5b6cdd",
   "metadata": {},
   "outputs": [
    {
     "name": "stdout",
     "output_type": "stream",
     "text": [
      "hello world\n"
     ]
    }
   ],
   "source": [
    "## print function\n",
    "\n",
    "print (\"hello world\")"
   ]
  },
  {
   "cell_type": "code",
   "execution_count": 9,
   "id": "4838bbbb",
   "metadata": {},
   "outputs": [
    {
     "name": "stdout",
     "output_type": "stream",
     "text": [
      "900\n",
      "700\n",
      "1200\n"
     ]
    }
   ],
   "source": [
    "## print variables\n",
    "print (alfred_monthly_23)\n",
    "print (trina_m)\n",
    "print (fatima_monthly_23)"
   ]
  },
  {
   "cell_type": "code",
   "execution_count": 12,
   "id": "30ca1ee4",
   "metadata": {},
   "outputs": [
    {
     "name": "stdout",
     "output_type": "stream",
     "text": [
      "Trina's rent: $700\n",
      "Trina pays 25.0 percent of the total rent!\n"
     ]
    }
   ],
   "source": [
    "## using f-string\n",
    "## print total all the monthly rents plus totals using f-string\n",
    "print (f\"Trina's rent: ${trina_monthly_23}\")\n",
    "print (f\"Trina pays {trina_share_23} percent of the total rent!\")"
   ]
  },
  {
   "cell_type": "code",
   "execution_count": 13,
   "id": "e51891fc",
   "metadata": {},
   "outputs": [
    {
     "name": "stdout",
     "output_type": "stream",
     "text": [
      "The total monthly rent is $2800\n"
     ]
    }
   ],
   "source": [
    "## f-string can also do claculations\n",
    "\n",
    "print(f\"The total monthly rent is \\\n",
    "${trina_monthly_23 + fatima_monthly_23 + alfred_monthly_23}\")"
   ]
  },
  {
   "cell_type": "code",
   "execution_count": null,
   "id": "ef6691c3",
   "metadata": {},
   "outputs": [],
   "source": []
  }
 ],
 "metadata": {
  "kernelspec": {
   "display_name": "Python 3 (ipykernel)",
   "language": "python",
   "name": "python3"
  },
  "language_info": {
   "codemirror_mode": {
    "name": "ipython",
    "version": 3
   },
   "file_extension": ".py",
   "mimetype": "text/x-python",
   "name": "python",
   "nbconvert_exporter": "python",
   "pygments_lexer": "ipython3",
   "version": "3.11.5"
  }
 },
 "nbformat": 4,
 "nbformat_minor": 5
}
